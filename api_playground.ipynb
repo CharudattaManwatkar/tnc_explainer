{
 "cells": [
  {
   "cell_type": "code",
   "execution_count": null,
   "id": "9f4313b6",
   "metadata": {},
   "outputs": [],
   "source": [
    "import os"
   ]
  },
  {
   "cell_type": "code",
   "execution_count": null,
   "id": "009b824f",
   "metadata": {},
   "outputs": [],
   "source": [
    "openai_access_key = os.environ['OPENAI_API_KEY']"
   ]
  },
  {
   "cell_type": "code",
   "execution_count": null,
   "id": "93d5a82d",
   "metadata": {},
   "outputs": [],
   "source": [
    "from openai import OpenAI\n",
    "\n",
    "client = OpenAI(organization='org-vLZEDXlqppLWrPwAtNgeqk3G')"
   ]
  },
  {
   "cell_type": "code",
   "execution_count": null,
   "id": "4bc9dfa7",
   "metadata": {},
   "outputs": [],
   "source": [
    "client.__dict__"
   ]
  },
  {
   "cell_type": "code",
   "execution_count": null,
   "id": "81cb50ff",
   "metadata": {},
   "outputs": [],
   "source": [
    "sys_prompt = \"You are a legal assistant, skilled in explaining complex legal concepts in easy and clear words\""
   ]
  },
  {
   "cell_type": "code",
   "execution_count": null,
   "id": "ca111ca9",
   "metadata": {},
   "outputs": [],
   "source": [
    "with open('trucaller.txt', 'r') as f:\n",
    "    tnc_text = f.read()"
   ]
  },
  {
   "cell_type": "code",
   "execution_count": null,
   "id": "5b4ef6fe",
   "metadata": {
    "scrolled": true
   },
   "outputs": [],
   "source": [
    "# for i, line in enumerate(tnc_text.split('\\n')):\n",
    "#     print(f\"{i}\\t{line}\")"
   ]
  },
  {
   "cell_type": "code",
   "execution_count": null,
   "id": "bbf750c6",
   "metadata": {},
   "outputs": [],
   "source": [
    "user_prompt_text = f'''Following are terms of service of an app.\n",
    "Explain in easy words which parts of these terms and connditions are harmful or not in the best interest of the user (call them problematic text).\n",
    "provide line or section or paragraph number as a reference to which text you found harmful.\n",
    "Explain why these are not in the best interest of the user or harmful to the user. Here is the text:\n",
    "\n",
    "{tnc_text}'''"
   ]
  },
  {
   "cell_type": "code",
   "execution_count": null,
   "id": "4b6690cd",
   "metadata": {},
   "outputs": [],
   "source": [
    "completion = client.chat.completions.create(\n",
    "#   model=\"gpt-3.5-turbo\",\n",
    "    model=\"gpt-4o-2024-08-06\",\n",
    "  messages=[\n",
    "    {\"role\": \"system\", \"content\": \"You are a legal assistant, skilled in explaining complex legal concepts in easy and clear words\"},\n",
    "    {\"role\": \"user\", \"content\": user_prompt_text}\n",
    "  ]\n",
    ")"
   ]
  },
  {
   "cell_type": "code",
   "execution_count": null,
   "id": "3b9b442e",
   "metadata": {
    "scrolled": false
   },
   "outputs": [],
   "source": [
    "from IPython.display import Markdown\n",
    "# print(completion.choices[0].message.content)\n",
    "Markdown(completion.choices[0].message.content)"
   ]
  },
  {
   "cell_type": "code",
   "execution_count": null,
   "id": "8ddc061f",
   "metadata": {},
   "outputs": [],
   "source": [
    "print(tnc_text)"
   ]
  },
  {
   "cell_type": "code",
   "execution_count": null,
   "id": "1d2a0913",
   "metadata": {},
   "outputs": [],
   "source": [
    "user_prompt_2 = \"Reanalyse your response again. Find and highlight logical mistakes, if any. Explain the mistakes and write a corrected response.\""
   ]
  },
  {
   "cell_type": "code",
   "execution_count": null,
   "id": "492d07c4",
   "metadata": {},
   "outputs": [],
   "source": [
    "completion2 = client.chat.completions.create(\n",
    "#   model=\"gpt-3.5-turbo\",\n",
    "    model=\"gpt-4o-2024-08-06\",\n",
    "  messages=[\n",
    "    {\"role\": \"system\", \"content\": sys_prompt},\n",
    "    {\"role\": \"user\", \"content\": user_prompt_text},\n",
    "    {\"role\": \"assistant\", \"content\": completion.choices[0].message.content},\n",
    "    {\"role\": \"user\", \"content\": user_prompt_2}\n",
    "  ]\n",
    ")"
   ]
  },
  {
   "cell_type": "code",
   "execution_count": null,
   "id": "79839ac4",
   "metadata": {},
   "outputs": [],
   "source": [
    "Markdown(completion2.choices[0].message.content)"
   ]
  },
  {
   "cell_type": "code",
   "execution_count": null,
   "id": "ed4876ec",
   "metadata": {},
   "outputs": [],
   "source": []
  }
 ],
 "metadata": {
  "interpreter": {
   "hash": "aee8b7b246df8f9039afb4144a1f6fd8d2ca17a180786b69acc140d282b71a49"
  },
  "kernelspec": {
   "display_name": "Python 3",
   "language": "python",
   "name": "python3"
  },
  "language_info": {
   "codemirror_mode": {
    "name": "ipython",
    "version": 3
   },
   "file_extension": ".py",
   "mimetype": "text/x-python",
   "name": "python",
   "nbconvert_exporter": "python",
   "pygments_lexer": "ipython3",
   "version": "3.8.11"
  }
 },
 "nbformat": 4,
 "nbformat_minor": 5
}
